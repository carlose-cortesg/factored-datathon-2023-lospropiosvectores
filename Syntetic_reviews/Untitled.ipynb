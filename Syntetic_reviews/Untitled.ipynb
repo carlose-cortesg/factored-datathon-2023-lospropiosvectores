{
 "cells": [
  {
   "cell_type": "code",
   "execution_count": 2,
   "id": "6fc49605-05f8-4f02-9444-242fd780c85c",
   "metadata": {},
   "outputs": [],
   "source": [
    "import pandas as pd"
   ]
  },
  {
   "cell_type": "code",
   "execution_count": 3,
   "id": "baa7d608-4c7c-459d-9d51-d0c9fad95ed5",
   "metadata": {},
   "outputs": [],
   "source": [
    "df = pd.read_csv('reviews_all.csv')"
   ]
  },
  {
   "cell_type": "code",
   "execution_count": 8,
   "id": "8062ca6c-ad28-49aa-a03c-72cc82f8bf42",
   "metadata": {},
   "outputs": [
    {
     "data": {
      "text/plain": [
       "array(['Longevity', 'Material and Quality', 'Fit and Comfort',\n",
       "       'Versatility', 'Price and Value', 'User Experience', 'Brand',\n",
       "       'Packaging and Presentation', 'Customer Support', 'Design'],\n",
       "      dtype=object)"
      ]
     },
     "execution_count": 8,
     "metadata": {},
     "output_type": "execute_result"
    }
   ],
   "source": [
    "df.Topic.unique()"
   ]
  },
  {
   "cell_type": "code",
   "execution_count": 6,
   "id": "6fa4f51c-7231-4948-a2ef-040e5ac56142",
   "metadata": {},
   "outputs": [
    {
     "data": {
      "text/html": [
       "<div>\n",
       "<style scoped>\n",
       "    .dataframe tbody tr th:only-of-type {\n",
       "        vertical-align: middle;\n",
       "    }\n",
       "\n",
       "    .dataframe tbody tr th {\n",
       "        vertical-align: top;\n",
       "    }\n",
       "\n",
       "    .dataframe thead th {\n",
       "        text-align: right;\n",
       "    }\n",
       "</style>\n",
       "<table border=\"1\" class=\"dataframe\">\n",
       "  <thead>\n",
       "    <tr style=\"text-align: right;\">\n",
       "      <th></th>\n",
       "      <th>Topic</th>\n",
       "      <th>Polarity</th>\n",
       "      <th>Review</th>\n",
       "    </tr>\n",
       "  </thead>\n",
       "  <tbody>\n",
       "    <tr>\n",
       "      <th>0</th>\n",
       "      <td>Longevity</td>\n",
       "      <td>-1</td>\n",
       "      <td>Poor Stitching and Durability</td>\n",
       "    </tr>\n",
       "    <tr>\n",
       "      <th>1</th>\n",
       "      <td>Longevity</td>\n",
       "      <td>-1</td>\n",
       "      <td>Fading Colors and Wear</td>\n",
       "    </tr>\n",
       "    <tr>\n",
       "      <th>2</th>\n",
       "      <td>Longevity</td>\n",
       "      <td>-1</td>\n",
       "      <td>Flimsy Zippers and Hardware</td>\n",
       "    </tr>\n",
       "    <tr>\n",
       "      <th>3</th>\n",
       "      <td>Longevity</td>\n",
       "      <td>-1</td>\n",
       "      <td>Material Pilling and Fraying</td>\n",
       "    </tr>\n",
       "    <tr>\n",
       "      <th>4</th>\n",
       "      <td>Longevity</td>\n",
       "      <td>-1</td>\n",
       "      <td>Unraveling Fabric Seams</td>\n",
       "    </tr>\n",
       "    <tr>\n",
       "      <th>...</th>\n",
       "      <td>...</td>\n",
       "      <td>...</td>\n",
       "      <td>...</td>\n",
       "    </tr>\n",
       "    <tr>\n",
       "      <th>809</th>\n",
       "      <td>Design</td>\n",
       "      <td>-1</td>\n",
       "      <td>A Fashion Design Blunder: Missing the Mark.</td>\n",
       "    </tr>\n",
       "    <tr>\n",
       "      <th>810</th>\n",
       "      <td>Design</td>\n",
       "      <td>-1</td>\n",
       "      <td>The Design Struggle: A Dysfunctional Creation.</td>\n",
       "    </tr>\n",
       "    <tr>\n",
       "      <th>811</th>\n",
       "      <td>Design</td>\n",
       "      <td>-1</td>\n",
       "      <td>The Uninspiring Design: Fashion's Lackluster L...</td>\n",
       "    </tr>\n",
       "    <tr>\n",
       "      <th>812</th>\n",
       "      <td>Design</td>\n",
       "      <td>-1</td>\n",
       "      <td>Design Experiment Gone Wrong: An Unsuccessful ...</td>\n",
       "    </tr>\n",
       "    <tr>\n",
       "      <th>813</th>\n",
       "      <td>Design</td>\n",
       "      <td>-1</td>\n",
       "      <td>The Design Flaws: A Blemished Creation.</td>\n",
       "    </tr>\n",
       "  </tbody>\n",
       "</table>\n",
       "<p>173 rows × 3 columns</p>\n",
       "</div>"
      ],
      "text/plain": [
       "         Topic  Polarity                                             Review\n",
       "0    Longevity        -1                      Poor Stitching and Durability\n",
       "1    Longevity        -1                             Fading Colors and Wear\n",
       "2    Longevity        -1                        Flimsy Zippers and Hardware\n",
       "3    Longevity        -1                       Material Pilling and Fraying\n",
       "4    Longevity        -1                            Unraveling Fabric Seams\n",
       "..         ...       ...                                                ...\n",
       "809     Design        -1        A Fashion Design Blunder: Missing the Mark.\n",
       "810     Design        -1     The Design Struggle: A Dysfunctional Creation.\n",
       "811     Design        -1  The Uninspiring Design: Fashion's Lackluster L...\n",
       "812     Design        -1  Design Experiment Gone Wrong: An Unsuccessful ...\n",
       "813     Design        -1            The Design Flaws: A Blemished Creation.\n",
       "\n",
       "[173 rows x 3 columns]"
      ]
     },
     "execution_count": 6,
     "metadata": {},
     "output_type": "execute_result"
    }
   ],
   "source": [
    "topics = ['Longevity','Design']\n",
    "\n",
    "df.query('Topic in @topics')"
   ]
  }
 ],
 "metadata": {
  "kernelspec": {
   "display_name": "Python 3 (ipykernel)",
   "language": "python",
   "name": "python3"
  },
  "language_info": {
   "codemirror_mode": {
    "name": "ipython",
    "version": 3
   },
   "file_extension": ".py",
   "mimetype": "text/x-python",
   "name": "python",
   "nbconvert_exporter": "python",
   "pygments_lexer": "ipython3",
   "version": "3.11.4"
  }
 },
 "nbformat": 4,
 "nbformat_minor": 5
}
