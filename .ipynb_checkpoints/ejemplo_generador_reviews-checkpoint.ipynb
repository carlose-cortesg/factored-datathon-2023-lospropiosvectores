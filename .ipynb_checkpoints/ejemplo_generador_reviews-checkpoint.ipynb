{
 "cells": [
  {
   "cell_type": "code",
   "execution_count": null,
   "id": "c17e073c",
   "metadata": {},
   "outputs": [],
   "source": [
    "import json\n",
    "from upload_data import sim_users\n",
    "\n",
    "with open(\"keys.json\") as json_file:\n",
    "    keys = json.load(json_file) \n",
    "\n",
    "email = keys[\"email\"]\n",
    "pwd = keys[\"pwd\"]\n",
    "product = \"watches\" #\"books\"\n",
    "features = \"accuracy, logevity, price, versality, fashionable\" #\"entertaining, quality of the edition, length of the book, printing quality\"\n",
    "at_least_n = 1\n",
    "\n",
    "fake_reviews = sim_users.reviewGenerator(email,pwd)\n",
    "result = fake_reviews.generate(at_least_n, product, features)"
   ]
  },
  {
   "cell_type": "code",
   "execution_count": null,
   "id": "00e15b9b",
   "metadata": {},
   "outputs": [],
   "source": [
    "print(result)"
   ]
  }
 ],
 "metadata": {
  "kernelspec": {
   "display_name": "Python 3 (ipykernel)",
   "language": "python",
   "name": "python3"
  },
  "language_info": {
   "codemirror_mode": {
    "name": "ipython",
    "version": 3
   },
   "file_extension": ".py",
   "mimetype": "text/x-python",
   "name": "python",
   "nbconvert_exporter": "python",
   "pygments_lexer": "ipython3",
   "version": "3.9.7"
  }
 },
 "nbformat": 4,
 "nbformat_minor": 5
}
