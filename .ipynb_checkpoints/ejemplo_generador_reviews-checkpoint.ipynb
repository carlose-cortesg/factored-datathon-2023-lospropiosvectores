{
 "cells": [
  {
   "cell_type": "code",
   "execution_count": null,
   "id": "8bca2c62",
   "metadata": {},
   "outputs": [],
   "source": [
    "import json\n",
    "from upload_data import sim_users\n",
    "\n",
    "with open(\"keys.json\") as json_file:\n",
    "    keys = json.load(json_file) \n",
    "\n",
    "email = keys[\"email\"]\n",
    "pwd = keys[\"pwd\"]\n",
    "product = \"shoes\"\n",
    "\n",
    "features = [\"Longevity\", \"Material and Quality\", \"Fit and Comfort\", \"Versatility\", \n",
    "            \"User Experience\", \"Best Price\", \"Brand Reputation\", \"Packaging and Presentation\", \n",
    "            \"Customer Service\", \"Design\"]\n",
    "at_least_n = 200\n",
    "\n",
    "fake_reviews = sim_users.reviewGenerator(email,pwd)\n",
    "    \n",
    "all_reviews = {}\n",
    "for feature in features:\n",
    "    print(f\"\"\"\n",
    "    -------------------------------------------------------------------------------------------------------------\n",
    "                                                     {feature}\n",
    "    -------------------------------------------------------------------------------------------------------------\n",
    "    \"\"\")\n",
    "    result = fake_reviews.generate(at_least_n, product, feature)\n",
    "    all_reviews[feature] = result\n",
    "    \n",
    "with open(\"syn_reviews.json\", \"w\") as outfile:\n",
    "    json.dump(all_reviews, outfile)"
   ]
  }
 ],
 "metadata": {
  "kernelspec": {
   "display_name": "Python 3 (ipykernel)",
   "language": "python",
   "name": "python3"
  },
  "language_info": {
   "codemirror_mode": {
    "name": "ipython",
    "version": 3
   },
   "file_extension": ".py",
   "mimetype": "text/x-python",
   "name": "python",
   "nbconvert_exporter": "python",
   "pygments_lexer": "ipython3",
   "version": "3.9.7"
  }
 },
 "nbformat": 4,
 "nbformat_minor": 5
}
