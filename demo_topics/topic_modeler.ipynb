{
 "cells": [
  {
   "cell_type": "markdown",
   "id": "a122381b-7163-4a63-96b3-df59286ba955",
   "metadata": {},
   "source": [
    "# Read Syntetic reviews of fashions "
   ]
  },
  {
   "cell_type": "code",
   "execution_count": 1,
   "id": "53c5423e-f16d-439c-8896-0a4fd50a4309",
   "metadata": {},
   "outputs": [],
   "source": [
    "import pandas as pd\n",
    "\n",
    "reviews = pd.read_csv('../Syntetic_reviews/sample_reviews_fashion.csv')"
   ]
  },
  {
   "cell_type": "markdown",
   "id": "6d896881-cce1-401f-a3e6-b5a1c8eee9d1",
   "metadata": {},
   "source": [
    "# Useful classes and functions"
   ]
  },
  {
   "cell_type": "code",
   "execution_count": 16,
   "id": "a6d487d7-f64a-41f2-887b-9b9cbde3cdee",
   "metadata": {},
   "outputs": [],
   "source": [
    "import numpy as np\n",
    "\n",
    "def cosine_similarity(v1: np.ndarray, v2: np.ndarray) -> float:\n",
    "    return distance.cosine(v1, v2)\n",
    "\n",
    "class VectorDatabase:\n",
    "    def __init__(self,nlp,model):\n",
    "        self.vectors = {}\n",
    "        self.nlp = nlp\n",
    "        self.model = model\n",
    "\n",
    "    def split_sentences(self, text):\n",
    "        doc = self.nlp(text, disable=[\"ner\"])\n",
    "        roots = [token  for token in doc if token.dep_ == \"ROOT\" ]\n",
    "    \n",
    "        texts = []\n",
    "        for root in roots:\n",
    "            token_list = [e.i for e in root.subtree]\n",
    "            token_list = list(dict.fromkeys(token_list))\n",
    "            token_list.sort()\n",
    "            text = ' '.join([doc[i].text for i in token_list ])\n",
    "            texts.append(text.lower().strip())\n",
    "            \n",
    "        return texts\n",
    "\n",
    "\n",
    "    def insert(self, sentence: str, polarity: int, type: str) -> None:\n",
    "        model = self.model\n",
    "        embeddings = list(model.encode([sentence])[0])\n",
    "        key = len(self.vectors) + 1\n",
    "        self.vectors[key] = {'text': sentence,\n",
    "                             'polarity': polarity,\n",
    "                             'type': type,\n",
    "                             'vector': embeddings}\n",
    "\n",
    "    def search(self, query: str):\n",
    "        model = self.model\n",
    "        query_vector = list(model.encode([query])[0])\n",
    "        \n",
    "        similarities = [(key, value['text'],distance.cosine(query_vector, value['vector']),value['polarity'],value['type']) for key, value in self.vectors.items()]\n",
    "        \n",
    "\n",
    "        aux = pd.DataFrame(similarities)\n",
    "        aux.columns = ['index_db','text','similarity','polarity','topic']\n",
    "\n",
    "        aux = aux.reset_index().query('index<10 or similarity<0.5').query('similarity<0.6')[['index','topic']].groupby(['topic']).count()\n",
    "        \n",
    "        aux['index2'] = aux['index']/aux['index'].sum()\n",
    "        \n",
    "        \n",
    "        \n",
    "        return  list(aux.query('index2>0.4 and index>=4').index.values)\n",
    "\n",
    "    def long_search(self, query: str):\n",
    "        topics = []\n",
    "        for str in self.split_sentences(query):\n",
    "            topics.extend(self.search(str))    \n",
    "        return  list(set(topics))\n",
    "\n",
    "\n"
   ]
  },
  {
   "cell_type": "markdown",
   "id": "71ffc434-3b2f-4a0a-b86b-19a34636a042",
   "metadata": {},
   "source": [
    "# Create V Database"
   ]
  },
  {
   "cell_type": "code",
   "execution_count": 17,
   "id": "8d7ffcbc-d8b5-4a20-bb37-881ac7f68202",
   "metadata": {},
   "outputs": [],
   "source": [
    "import numpy as np\n",
    "from scipy.spatial import distance\n",
    "from collections import defaultdict\n",
    "from typing import List, Tuple\n",
    "import spacy\n",
    "from sentence_transformers import SentenceTransformer\n",
    "model = SentenceTransformer('multi-qa-mpnet-base-dot-v1')\n",
    "\n",
    "\n",
    "nlp = spacy.load(\"en_core_web_lg\")\n",
    "vector_db = VectorDatabase(nlp, model)\n",
    "\n",
    "for index, row in reviews.iterrows():\n",
    "    vector_db.insert(row['Review'],row['Polarity'],row['Topic'])\n",
    "\n"
   ]
  },
  {
   "cell_type": "markdown",
   "id": "72b804f0-fb16-42b4-85df-11366b34d07b",
   "metadata": {},
   "source": [
    "# Test VDB"
   ]
  },
  {
   "cell_type": "code",
   "execution_count": 18,
   "id": "f8c186fe-f4ef-4223-85ae-1f6af1f1b120",
   "metadata": {},
   "outputs": [
    {
     "data": {
      "text/plain": [
       "['longevity', 'Material and Quality']"
      ]
     },
     "execution_count": 18,
     "metadata": {},
     "output_type": "execute_result"
    }
   ],
   "source": [
    "str = '''\n",
    "These shorts are very flattering and perfect for running in. \n",
    "I really loved them, until I put them through the wash once. \n",
    "I hung dry them, but the edges have already started deteriorating. \n",
    "I can tell these shorts will have a short lifespan, and I've never had this type of issue with any other shorts I bought.\n",
    "'''\n",
    "\n",
    "aux = vector_db.long_search(str)\n",
    "aux"
   ]
  },
  {
   "cell_type": "markdown",
   "id": "2929740b-2501-4579-9398-9cac49d3bcc9",
   "metadata": {},
   "source": [
    "# Test VDB with some actual reviews from our dataset"
   ]
  },
  {
   "cell_type": "code",
   "execution_count": 5,
   "id": "50ffcb27-5bda-4c07-b04d-445fb2dec275",
   "metadata": {},
   "outputs": [],
   "source": [
    "\n",
    "from google.cloud import bigquery\n",
    "import os\n",
    "\n",
    "os.environ[\"GOOGLE_APPLICATION_CREDENTIALS\"] = \"../sa.json\"\n",
    "\n",
    "\n",
    "client = bigquery.Client()\n",
    "\n",
    "\n",
    "sql = '''\n",
    "\n",
    "SELECT reviewText,overall,asin\n",
    "from `factored.raw_reviews`\n",
    "WHERE asin = 'B017HXIFV8'\n",
    "'''\n",
    "\n",
    "df = client.query(sql).result().to_dataframe()\n",
    "\n",
    "\n",
    "#aux = vector_db.long_search(str)\n",
    "#aux"
   ]
  },
  {
   "cell_type": "code",
   "execution_count": 19,
   "id": "d314b67a-d011-49c7-8c3e-d6bf2c4e48ea",
   "metadata": {},
   "outputs": [
    {
     "name": "stdout",
     "output_type": "stream",
     "text": [
      "This jacket has a lovely hourglass taper, with tailored bust, slimmed waist and flaired hips. It's not extreme - just a flattering fit. I would say it would be better for someone 5'7\" or under, as the sleeves aren't super long. Adequate, but not great for a taller girl. Love the contrast, and the stitching. Very attractive jacket. ['Fit and Comfort', 'Material and Quality']\n",
      "-------------------------------\n",
      "CHARLES RIVER APPAREL WOMEN'S LITHIUM QUILTED JACKET\n",
      "\n",
      "WOW!  This jacket is very, very nice.  Believe me when I tell you that the picture does not do this jacket any justice.  My jacket is grey with pink highlights on the zipper and pockets.  The jacket has a quilted design.  We live in Ohio, and it is definitely winter here.  This jacket is warm, wind and water resistant, and while it is doing all of that, it is looking good.  It is also very light weight.  The jacket is tapered at the waist and kind of has a slimming effect.  Looks great!\n",
      "\n",
      "There is a dropped tail hem for extra warmth.  There is a stand up collar and there is also a chin guard.  The long front zipper has a plastic pink cover over the tab of the zipper; however, the pocket zippers do not have this plastic cover.  The pockets are plenty deep and wide for your keys, phone, cash, credit cards and lipstick.  The zippers are very sturdy.  And get this!  When you put the coat on, you zip up.  Then, there is another front zipper for extra warmth and protection.  The jacket features premium PrimaLoft SPORT insulation and has an active weather rating to 3 degrees F.\n",
      "\n",
      "The jacket is 100% polyester -- the shell, the lining, and the filling.  The jacket shell is 100% recycled PET bottles!  Awesome.  You may machine wash in cold water on the gentle cycle.  You may tumble dry on low.  Do not bleach, do not iron, do not dry clean.\n",
      "\n",
      "CHARLES RIVER is a family owned and operated company in Massachusetts and they have been in the industry since 1983.  They have won many awards in the clothing industry and just taking one look at this jacket you can see why.\n",
      "\n",
      "This jacket will be used and worn plenty here in Ohio.  Not only does it keep me warm, but it looks very nice while doing so. ['longevity', 'Fit and Comfort', 'Material and Quality']\n",
      "-------------------------------\n",
      "This fits well, is light and non-bulky, and it is useful.\n",
      "\n",
      "I wore this over a shirt in 50-degree weather, and it was perfect. ['Fit and Comfort']\n",
      "-------------------------------\n",
      "OK, start with the fact that the outer shell is made from recycled PET bottles, and you've got the basis for something conceptually cool.  But how does it FEEL?  Thankfully... wonderful.  This is an exceptionally comfortable jacket with a soft, flexible feel and surprising warmth considering how light it is.  It runs a bit small/snug so if you're hoping to layer underneath with a sweatshirt, definitely order a size up.  While on its own it's not quite warm enough to weather brutal Minnesota winters, but it will definitely hold its own on milder winter days and all spring and autumn.\n",
      "\n",
      "Plus, it's super cute. ['Fit and Comfort']\n",
      "-------------------------------\n",
      "The significant other has been on a roll lately, choosing one product after another that she loves.  This 100% polyester jacket, which appears to be down-filled instead of polyester filled, is comfortable and fits quite well.  The pattern and styling compliment her small figure nicely, and she love the feel of the jacket.\n",
      "\n",
      "The jacket is a true wind breaker, being water and wind resistant.  The lithium color is our favorite of the three currently available colors.  The zippers are lighter gray in color, with the two pocket zippers extending along main front seams.  Note that the collar is stand up, which is not necessarily our preference, but it is okay.\n",
      "\n",
      "It appears that the jacket is set up for a vest-liner, but we are unsure of which vest would fit.  Amazon should provide a link to the vest, or include it as part of the package.\n",
      "\n",
      "We consider the price to be a bit high for a polyester jacket, though it is water resistant and wind resistant.  We were tempted to drop our rating by one star based on price, but after additional discussion, we decided that being a little high was short of excessively high, so we did not change our rating based on price.\n",
      "\n",
      "The significant other really likes this jacket.  She was kind of dancing around in it, showing it off to me.  Given her enthusiasm for the jacket, including the styling, fit, water resistance, wind resistance, and ability to machine wash, the jacket had to be five stars.  Yes, the significant other swayed me regarding price (it would have been four stars but for her input), but ultimately five stars seemed appropriate.\n",
      "\n",
      "Enjoy! ['Fit and Comfort', 'Material and Quality']\n",
      "-------------------------------\n",
      "This is the perfect jacket for that morning walk in the cold winter.  It is also the perfect jacket for wearing to an indoor event (when it's cold outside, but you need to take off and hold your coat when you're inside).  I would have preferred the sleeves to be slightly longer, but it still works.  This jacket runs true-to-size, erring on the side of being slightly smaller.  It is very lightweight, but comfortably warm.  My favorite part is that it's not bulky and it's easy to hold when you take it off. ['Fit and Comfort']\n",
      "-------------------------------\n",
      "This light-weight but warm jacket it a wonderful switch up from my normal, bulky coat.  It fits close but not in a tight or binding way and it's light weight makes it easy to move around in.  I'm in the middle of a cold DC winter and am finding myself reaching for this jacket to throw on when I need to run outside for short periods.  It has a double zipper (one inside, one outside) which makes a real difference for keeping the cold out.  The pockets are comfortably placed and the neck guard offers a nice level of protection for when I don't have  a scarf.\n",
      "\n",
      "I like that it is 100%  polyester and the shell is made from 100% recycled materials.  It's easy to wash in the washing machine on the right settings, which is also a major plus. ['Fit and Comfort', 'Material and Quality']\n",
      "-------------------------------\n",
      "Very warm double zip jacket. Lightweight and easily packable. Water resistant in a light rain. I don't think it would withstand a downpour. ['Fit and Comfort']\n",
      "-------------------------------\n",
      "This grey has almost a taupe quality to it, which I happen to like, but it isn't the same as in the picture.\n",
      "\n",
      "This jacket zips well, fits as expected, and provides a good amount of warmth for the early spring days in Minnesota. This won't keep you super warm, but it's about the same warmth as a Columbia fleece zip up. As someone who wears jackets for 6 months out of the year, I like to have a little variety and this adds a little something special to the rotation! ['Fit and Comfort', 'Versatility']\n",
      "-------------------------------\n",
      "This is a nice lightweight jacket, basic and simple, but sometimes that is all you need.  I got a medium, which fits great in the shoulders and waist, but I could have a much larger bust and it would fit even better.  It is by no means binding in the chest, and puffs out there a little bit more than I would like, but when I have a bulky sweatshirt on underneath it, it is not as obvious.  You can kind of see that in the photo of the model wearing it, the jacket is slimming at the waist, but not as form fitting in the chest area.  So be it, this is a safe bet for larger chested women I suppose.  The zippered pockets are always a huge plus, and the length so it covers the top of the pants.  I'm 5'7\"/130/36B and the medium works, I  suspect the small would be too constricting in the shoulders. ['Fit and Comfort']\n",
      "-------------------------------\n",
      "I like this jacket, and the only issue I really have with it is that it fits small. I wear a large, sometimes a medium, depending what I've eating on any particular day, and this jacket is somewhat tight on me at a Large size.\n",
      "\n",
      "With that being said, it is cute and sporty. It's not very thick, it says quilted, but not much, but it's a good chilly spring jacket. It's gray with pink detail. Pink zipper, zips all the way up to the neck. Lining is pink,with no real insulation. It has 2 pink side zipper pockets. It is sorted of puffered, but not as much as your typical puffer styled coat. The feel of the material leads me to believe that it is good at repelling rain. Lining, shell and fill are 100% polyester. Wash cold water, low tumble dry, DO NOT DRY CLEAN. ['longevity', 'Fit and Comfort']\n",
      "-------------------------------\n",
      "Fits well and surprising warm when you do the yes sets of zippers - very happy!! ['Fit and Comfort']\n",
      "-------------------------------\n",
      "There are two reasons my wife was enthusiastic about this jacket. First it's the cut, the lines. It isn't perfectly straight; it's tapered at the waist and then lets out a little. It's slimming and makes one appear or feel slightly taller. Second, the colors.\n",
      "\n",
      "The grayish jacket color against the pink zippers - that's brilliant. That along with the lines make this a sophisticated jacket. It's not just a polyester jacket. The style is upmarket. ['Fit and Comfort', 'Material and Quality']\n",
      "-------------------------------\n",
      "The jacket runs true to a bit slightly small.  It is well-made and has an inner and outer zipper.  Interestingly, it is made from recycled water bottles!\n",
      "It is very compressible and ideal for packing.  It can take a vest from Charles River:<a data-hook=\"product-link-linked\" class=\"a-link-normal\" href=\"/Charles-River-Apparel-Women-s-Plus-Size-Radius-Quilted-Vest-Black-Grey-X-Large/dp/B00PWNN7GO/ref=cm_cr_arp_d_rvw_txt?ie=UTF8\">Charles River Apparel Women's Plus-Size Radius Quilted Vest, Black/Grey, X-Large</a> []\n",
      "-------------------------------\n",
      "My wife loves this jacket. It's a great spring/fall jacket that fits well, is snug around the sides, and looks good. The blue is a great color and the white zippers are a nice accent. The sleeves are long enough for my wife, who struggles to find tops that aren't too short in the sleeves. It goes down over the waist a bit, but not too low. Overall, very pleased with it. ['Fit and Comfort', 'Material and Quality']\n",
      "-------------------------------\n",
      "This Charles River jacket is well made, and surprisingly warm given how lightweight it is. I put it through the washer & dryer with no issues at all, and it's held up well to regular wear. The lining is a very bright, solid pink, and the exterior is a true gray/charcoal with bright pink piping.  I do find that the fit through the body is a bit wide for my taste; the hip area fits a lot like North Face clothes do, but the chest/bust is a wider cut than the North Face & Marmot jackets I've owned before. So in a perfect world I'd appreciate a little more tailoring through the torso for a trimmer fit around the bust but everyone is a different shape so I can't fault Charles River for that! On the whole recommend this jacket, just know that it's cut slightly widely through the body, so you may want to consider sizing down if you're in between sizes. ['Fit and Comfort', 'longevity', 'Material and Quality']\n",
      "-------------------------------\n",
      "I love how light it is, yet warm.  Size is probably pretty accurate, probably could've gone smaller but wasn't sure. ['Fit and Comfort']\n",
      "-------------------------------\n",
      "My ectomorphic friend found that at 45 degrees this handsome, tapered-fit coat did not quite keep her warm. Indoors it's as nice or nicer that a sweater.\n",
      "Fit was good, although of course that will vary. This jacket was well sewn.\n",
      "A problem was the cuff seam location; the bump right under the wrist bothered her typing.\n",
      "The zipper was fine, mechanically, although the pull tab could have been bigger.\n",
      "This really looks good on a slim person. ['longevity', 'Fit and Comfort']\n",
      "-------------------------------\n"
     ]
    }
   ],
   "source": [
    "for index, row in df.iterrows():\n",
    "    review = row['reviewText']\n",
    "    aux = vector_db.long_search(review)\n",
    "\n",
    "    print(review,aux)\n",
    "    print('-------------------------------')"
   ]
  },
  {
   "cell_type": "code",
   "execution_count": null,
   "id": "cddbc4cd-97a8-4b04-be66-18d30b334fab",
   "metadata": {},
   "outputs": [],
   "source": []
  }
 ],
 "metadata": {
  "kernelspec": {
   "display_name": "Python 3 (ipykernel)",
   "language": "python",
   "name": "python3"
  },
  "language_info": {
   "codemirror_mode": {
    "name": "ipython",
    "version": 3
   },
   "file_extension": ".py",
   "mimetype": "text/x-python",
   "name": "python",
   "nbconvert_exporter": "python",
   "pygments_lexer": "ipython3",
   "version": "3.11.4"
  }
 },
 "nbformat": 4,
 "nbformat_minor": 5
}
