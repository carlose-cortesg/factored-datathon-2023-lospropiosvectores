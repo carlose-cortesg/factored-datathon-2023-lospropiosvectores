{
 "cells": [
  {
   "cell_type": "markdown",
   "id": "a122381b-7163-4a63-96b3-df59286ba955",
   "metadata": {},
   "source": [
    "# Read Syntetic reviews of fashions "
   ]
  },
  {
   "cell_type": "code",
   "execution_count": 18,
   "id": "53c5423e-f16d-439c-8896-0a4fd50a4309",
   "metadata": {},
   "outputs": [],
   "source": [
    "import pandas as pd\n",
    "\n",
    "reviews = pd.read_csv('../Syntetic_reviews/reviews_all.csv')"
   ]
  },
  {
   "cell_type": "markdown",
   "id": "6d896881-cce1-401f-a3e6-b5a1c8eee9d1",
   "metadata": {},
   "source": [
    "# Useful classes and functions"
   ]
  },
  {
   "cell_type": "code",
   "execution_count": 19,
   "id": "a6d487d7-f64a-41f2-887b-9b9cbde3cdee",
   "metadata": {},
   "outputs": [],
   "source": [
    "import numpy as np\n",
    "\n",
    "def cosine_similarity(v1: np.ndarray, v2: np.ndarray) -> float:\n",
    "    return distance.cosine(v1, v2)\n",
    "\n",
    "class VectorDatabase:\n",
    "    def __init__(self,nlp,model):\n",
    "        self.vectors = {}\n",
    "        self.nlp = nlp\n",
    "        self.model = model\n",
    "        \n",
    "\n",
    "    def split_sentences(self, text):\n",
    "        doc = self.nlp(text, disable=[\"ner\"])\n",
    "        roots = [token  for token in doc if token.dep_ == \"ROOT\" ]\n",
    "    \n",
    "        texts = []\n",
    "        for root in roots:\n",
    "            token_list = [e.i for e in root.subtree]\n",
    "            token_list = list(dict.fromkeys(token_list))\n",
    "            token_list.sort()\n",
    "            text = ' '.join([doc[i].text for i in token_list ])\n",
    "            texts.append(text.lower().strip())\n",
    "            \n",
    "        return texts\n",
    "\n",
    "\n",
    "    def insert(self, sentence: str, polarity: int, type: str) -> None:\n",
    "        model = self.model\n",
    "        embeddings = model.encode(sentence)\n",
    "        key = len(self.vectors) + 1\n",
    "        self.vectors[key] = {'text': sentence,\n",
    "                             'polarity': polarity,\n",
    "                             'type': type,\n",
    "                             'vector': embeddings}\n",
    "\n",
    "    def search(self, query: str):\n",
    "        model = self.model\n",
    "        query_vector = model.encode(query)\n",
    "        \n",
    "        similarities = [(key, value['text'],distance.cosine(query_vector, value['vector']),value['polarity'],value['type']) for key, value in self.vectors.items()]\n",
    "        \n",
    "\n",
    "        aux = pd.DataFrame(similarities)\n",
    "        aux.columns = ['index_db','text','similarity','polarity','topic']\n",
    "\n",
    "        aux = aux.reset_index().query('index<10 or similarity<0.6').query('similarity<0.7')[['index','topic']].groupby(['topic']).count()\n",
    "        \n",
    "        aux['index2'] = aux['index']/aux['index'].sum()\n",
    "        \n",
    "        \n",
    "        \n",
    "        return  list(aux.query('index2>0.4 and index>=4').index.values)\n",
    "\n",
    "    def long_search(self, query: str):\n",
    "        topics = []\n",
    "        for str in self.split_sentences(query):\n",
    "            topics_this = self.search(str)\n",
    "            if len(topics_this)>0:\n",
    "                mini_df = pd.DataFrame(topics_this)\n",
    "                mini_df.columns = ['topic']\n",
    "                mini_df['review'] = query\n",
    "                mini_df['sub_review'] = str\n",
    "                topics.append(mini_df)\n",
    "        if len(topics)>0:\n",
    "            \n",
    "            aux = pd.concat(topics)\n",
    "            #aux ['stars'] = [int(self.sentiment_pipe(str)[0]['label'][0]) for str in aux.sub_review]\n",
    "        else:\n",
    "            aux = None\n",
    "            \n",
    "        return  aux\n",
    "\n"
   ]
  },
  {
   "cell_type": "markdown",
   "id": "71ffc434-3b2f-4a0a-b86b-19a34636a042",
   "metadata": {},
   "source": [
    "# Create V Database"
   ]
  },
  {
   "cell_type": "code",
   "execution_count": 20,
   "id": "8d7ffcbc-d8b5-4a20-bb37-881ac7f68202",
   "metadata": {},
   "outputs": [
    {
     "name": "stdout",
     "output_type": "stream",
     "text": [
      "Model found at: /Users/mateograciano/.cache/torch/sentence_transformers/sentence-transformers_all-MiniLM-L6-v2/quantized_true.onnx\n",
      "CPU times: user 36.1 s, sys: 499 ms, total: 36.6 s\n",
      "Wall time: 6.29 s\n"
     ]
    }
   ],
   "source": [
    "%%time\n",
    "import numpy as np\n",
    "from scipy.spatial import distance\n",
    "from collections import defaultdict\n",
    "from typing import List, Tuple\n",
    "import spacy\n",
    "\n",
    "from fast_sentence_transformers import FastSentenceTransformer as SentenceTransformer\n",
    "\n",
    "# use any sentence-transformer\n",
    "model = SentenceTransformer(\"all-MiniLM-L6-v2\", device=\"cpu\", quantize=True)\n",
    "\n",
    "\n",
    "nlp = spacy.load(\"en_core_web_lg\")\n",
    "vector_db = VectorDatabase(nlp, model)\n",
    "\n",
    "for index, row in reviews.iterrows():\n",
    "    vector_db.insert(row['Review'],row['Polarity'],row['Topic'])\n",
    "\n"
   ]
  },
  {
   "cell_type": "markdown",
   "id": "72b804f0-fb16-42b4-85df-11366b34d07b",
   "metadata": {},
   "source": [
    "# Test VDB"
   ]
  },
  {
   "cell_type": "code",
   "execution_count": 29,
   "id": "f8c186fe-f4ef-4223-85ae-1f6af1f1b120",
   "metadata": {},
   "outputs": [
    {
     "data": {
      "text/html": [
       "<div>\n",
       "<style scoped>\n",
       "    .dataframe tbody tr th:only-of-type {\n",
       "        vertical-align: middle;\n",
       "    }\n",
       "\n",
       "    .dataframe tbody tr th {\n",
       "        vertical-align: top;\n",
       "    }\n",
       "\n",
       "    .dataframe thead th {\n",
       "        text-align: right;\n",
       "    }\n",
       "</style>\n",
       "<table border=\"1\" class=\"dataframe\">\n",
       "  <thead>\n",
       "    <tr style=\"text-align: right;\">\n",
       "      <th></th>\n",
       "      <th>topic</th>\n",
       "      <th>review</th>\n",
       "      <th>sub_review</th>\n",
       "    </tr>\n",
       "  </thead>\n",
       "  <tbody>\n",
       "    <tr>\n",
       "      <th>0</th>\n",
       "      <td>Longevity</td>\n",
       "      <td>\\n\\nI hung dry them, but the edges have alread...</td>\n",
       "      <td>i hung dry them , but the edges have already s...</td>\n",
       "    </tr>\n",
       "    <tr>\n",
       "      <th>0</th>\n",
       "      <td>Design</td>\n",
       "      <td>\\n\\nI hung dry them, but the edges have alread...</td>\n",
       "      <td>amazing design .</td>\n",
       "    </tr>\n",
       "    <tr>\n",
       "      <th>0</th>\n",
       "      <td>Fit and Comfort</td>\n",
       "      <td>\\n\\nI hung dry them, but the edges have alread...</td>\n",
       "      <td>the fit is perfect .</td>\n",
       "    </tr>\n",
       "    <tr>\n",
       "      <th>0</th>\n",
       "      <td>Customer Support</td>\n",
       "      <td>\\n\\nI hung dry them, but the edges have alread...</td>\n",
       "      <td>awful customer service</td>\n",
       "    </tr>\n",
       "  </tbody>\n",
       "</table>\n",
       "</div>"
      ],
      "text/plain": [
       "              topic                                             review  \\\n",
       "0         Longevity  \\n\\nI hung dry them, but the edges have alread...   \n",
       "0            Design  \\n\\nI hung dry them, but the edges have alread...   \n",
       "0   Fit and Comfort  \\n\\nI hung dry them, but the edges have alread...   \n",
       "0  Customer Support  \\n\\nI hung dry them, but the edges have alread...   \n",
       "\n",
       "                                          sub_review  \n",
       "0  i hung dry them , but the edges have already s...  \n",
       "0                                   amazing design .  \n",
       "0                               the fit is perfect .  \n",
       "0                             awful customer service  "
      ]
     },
     "execution_count": 29,
     "metadata": {},
     "output_type": "execute_result"
    }
   ],
   "source": [
    "str = '''\n",
    "\n",
    "I hung dry them, but the edges have already started deteriorating. \n",
    "Amazing Design.\n",
    "The fit is perfect.\n",
    "Awful Customer Service\n",
    "\n",
    "\n",
    "'''\n",
    "\n",
    "aux = vector_db.long_search(str)\n",
    "\n",
    "aux\n"
   ]
  },
  {
   "cell_type": "markdown",
   "id": "2929740b-2501-4579-9398-9cac49d3bcc9",
   "metadata": {},
   "source": [
    "# Test VDB with some actual reviews from our dataset"
   ]
  },
  {
   "cell_type": "code",
   "execution_count": 9,
   "id": "50ffcb27-5bda-4c07-b04d-445fb2dec275",
   "metadata": {},
   "outputs": [],
   "source": [
    "\n",
    "from google.cloud import bigquery\n",
    "import os\n",
    "\n",
    "os.environ[\"GOOGLE_APPLICATION_CREDENTIALS\"] = \"../sa.json\"\n",
    "\n",
    "\n",
    "client = bigquery.Client()\n",
    "\n",
    "\n",
    "sql = '''\n",
    "\n",
    "SELECT reviewText,overall,asin\n",
    "from `factored.raw_reviews`\n",
    "WHERE asin = 'B00HDZIT0S'\n",
    "'''\n",
    "\n",
    "df = client.query(sql).result().to_dataframe()\n",
    "\n"
   ]
  },
  {
   "cell_type": "code",
   "execution_count": 17,
   "id": "d314b67a-d011-49c7-8c3e-d6bf2c4e48ea",
   "metadata": {
    "scrolled": true
   },
   "outputs": [
    {
     "name": "stdout",
     "output_type": "stream",
     "text": [
      "CPU times: user 59 s, sys: 245 ms, total: 59.3 s\n",
      "Wall time: 10.5 s\n"
     ]
    },
    {
     "data": {
      "text/html": [
       "<div>\n",
       "<style scoped>\n",
       "    .dataframe tbody tr th:only-of-type {\n",
       "        vertical-align: middle;\n",
       "    }\n",
       "\n",
       "    .dataframe tbody tr th {\n",
       "        vertical-align: top;\n",
       "    }\n",
       "\n",
       "    .dataframe thead th {\n",
       "        text-align: right;\n",
       "    }\n",
       "</style>\n",
       "<table border=\"1\" class=\"dataframe\">\n",
       "  <thead>\n",
       "    <tr style=\"text-align: right;\">\n",
       "      <th></th>\n",
       "      <th>stars</th>\n",
       "    </tr>\n",
       "    <tr>\n",
       "      <th>topic</th>\n",
       "      <th></th>\n",
       "    </tr>\n",
       "  </thead>\n",
       "  <tbody>\n",
       "    <tr>\n",
       "      <th>overall</th>\n",
       "      <td>3.809129</td>\n",
       "    </tr>\n",
       "    <tr>\n",
       "      <th>Fit and Comfort</th>\n",
       "      <td>3.980198</td>\n",
       "    </tr>\n",
       "    <tr>\n",
       "      <th>Material and Quality</th>\n",
       "      <td>3.125000</td>\n",
       "    </tr>\n",
       "    <tr>\n",
       "      <th>Versatility</th>\n",
       "      <td>4.266667</td>\n",
       "    </tr>\n",
       "    <tr>\n",
       "      <th>longevity</th>\n",
       "      <td>2.555556</td>\n",
       "    </tr>\n",
       "  </tbody>\n",
       "</table>\n",
       "</div>"
      ],
      "text/plain": [
       "                         stars\n",
       "topic                         \n",
       "overall               3.809129\n",
       "Fit and Comfort       3.980198\n",
       "Material and Quality  3.125000\n",
       "Versatility           4.266667\n",
       "longevity             2.555556"
      ]
     },
     "execution_count": 17,
     "metadata": {},
     "output_type": "execute_result"
    }
   ],
   "source": [
    "%%time \n",
    "ans= []\n",
    "for index, row in df.iterrows():\n",
    "    #print(index)\n",
    "    review = row['reviewText']\n",
    "    if review is None:\n",
    "        review = ''\n",
    "    if (len(review)>0):\n",
    "        aux = vector_db.long_search(review)\n",
    "        if aux is not None:\n",
    "            aux['stars'] = row['overall']\n",
    "            ans.append(aux)\n",
    "\n",
    "ans = pd.concat(ans)\n",
    "\n",
    "\n",
    "df['topic']= 'overall'\n",
    "overall = df[['topic','overall']].groupby(['topic']).mean()\n",
    "overall.columns = ['stars']\n",
    "\n",
    "\n",
    "topics = ans[['topic','stars']].groupby(['topic']).mean()\n",
    "\n",
    "\n",
    "pd.concat([overall,topics])"
   ]
  },
  {
   "cell_type": "markdown",
   "id": "325eca7f-6b8d-4573-abaf-2c1afff0e8dc",
   "metadata": {},
   "source": []
  }
 ],
 "metadata": {
  "kernelspec": {
   "display_name": "Python 3 (ipykernel)",
   "language": "python",
   "name": "python3"
  },
  "language_info": {
   "codemirror_mode": {
    "name": "ipython",
    "version": 3
   },
   "file_extension": ".py",
   "mimetype": "text/x-python",
   "name": "python",
   "nbconvert_exporter": "python",
   "pygments_lexer": "ipython3",
   "version": "3.11.4"
  }
 },
 "nbformat": 4,
 "nbformat_minor": 5
}
